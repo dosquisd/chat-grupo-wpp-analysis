{
 "cells": [
  {
   "cell_type": "code",
   "execution_count": 1,
   "metadata": {},
   "outputs": [],
   "source": [
    "from python_files.booleans import check_sent_by_participant, is_datetime"
   ]
  },
  {
   "cell_type": "code",
   "execution_count": null,
   "metadata": {},
   "outputs": [],
   "source": [
    "parsed_chat = []\n",
    "\n",
    "with open(\"./data/whatsapp/WhatsApp Chat with Los q m├бs lloran.txt\", \"r\") as file:\n",
    "    for i, line in enumerate(file.readlines()):\n",
    "        line_stripped = line.split(\" - \", 1)\n",
    "\n",
    "        # Check if the line is not a message sent by a participant\n",
    "        if len(line_stripped) == 2:\n",
    "            date, message = line_stripped\n",
    "\n",
    "            condition = not check_sent_by_participant(message) and is_datetime(date)\n",
    "            if condition:\n",
    "                print(f\"{i+1}. Skipping line: {line.strip()}\")\n",
    "                continue\n",
    "\n",
    "        parsed_chat.append(line)"
   ]
  },
  {
   "cell_type": "code",
   "execution_count": 3,
   "metadata": {},
   "outputs": [],
   "source": [
    "with open(\"./data/analysis/chat.txt\", \"w\") as file:\n",
    "    file.writelines(parsed_chat)"
   ]
  }
 ],
 "metadata": {
  "kernelspec": {
   "display_name": ".venv",
   "language": "python",
   "name": "python3"
  },
  "language_info": {
   "codemirror_mode": {
    "name": "ipython",
    "version": 3
   },
   "file_extension": ".py",
   "mimetype": "text/x-python",
   "name": "python",
   "nbconvert_exporter": "python",
   "pygments_lexer": "ipython3",
   "version": "3.13.0"
  }
 },
 "nbformat": 4,
 "nbformat_minor": 2
}
